{
 "cells": [
  {
   "cell_type": "code",
   "execution_count": null,
   "id": "2728195f-0f2c-40d7-9622-b5f0caad03c2",
   "metadata": {},
   "outputs": [],
   "source": [
    "from library import *\n",
    "from fileio import *"
   ]
  }
 ],
 "metadata": {
  "kernelspec": {
   "display_name": "Python (pred_fr)",
   "language": "python",
   "name": "pred_fr"
  },
  "language_info": {
   "codemirror_mode": {
    "name": "ipython",
    "version": 3
   },
   "file_extension": ".py",
   "mimetype": "text/x-python",
   "name": "python",
   "nbconvert_exporter": "python",
   "pygments_lexer": "ipython3",
   "version": "3.12.11"
  }
 },
 "nbformat": 4,
 "nbformat_minor": 5
}
