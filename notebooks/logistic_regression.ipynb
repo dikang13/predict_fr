{
 "cells": [
  {
   "cell_type": "code",
   "execution_count": null,
   "id": "2728195f-0f2c-40d7-9622-b5f0caad03c2",
   "metadata": {},
   "outputs": [],
   "source": [
    "from library import *\n",
    "from fileio import *"
   ]
  },
  {
   "cell_type": "code",
   "execution_count": null,
   "id": "d0d8e917-1f3a-4d9d-bbbe-a339854e74d0",
   "metadata": {
    "tags": []
   },
   "outputs": [],
   "source": [
    "from split import *\n",
    "from feature import *\n",
    "from evaluate import *\n",
    "from train_test import *\n",
    "from plot import *\n",
    "from reference import *"
   ]
  },
  {
   "cell_type": "code",
   "execution_count": null,
   "id": "22a72516-adf0-486a-909d-29dfcdc44ea8",
   "metadata": {
    "tags": []
   },
   "outputs": [],
   "source": [
    "all_traces = load_dict_from_pickle('/data1/candy/predict_fwd_rev/outputs/all_traces.pkl')\n",
    "\n",
    "# hyperparameters on time point selection\n",
    "# t = 8 is when forward run starts at all_trace_starts\n",
    "# t = 16 is when forward run ends at all_trace_ends\n",
    "import traceback\n",
    "\n",
    "fwd_start     = 8\n",
    "base_t_start  = 6\n",
    "base_t_end    = 10\n",
    "slope_t_start = 10\n",
    "slope_t_end   = 14\n",
    "\n",
    "verbose = False\n",
    "perf_by_rev_masks = {}\n",
    "\n",
    "for maskRev in ['none', 'shortRev', 'longRev']:\n",
    "    perf = {}\n",
    "\n",
    "    for group in ['1h_starved']: #['sparse_food', 'off_food', 'just_fed', 'fasted', '1h_starved', 'all']:\n",
    "        perf[group] = {}\n",
    "\n",
    "        for nc in all_traces.keys():\n",
    "            try:\n",
    "                arr_vel  = all_traces[nc][group]['beh'][0]\n",
    "                arr_hc   = all_traces[nc][group]['beh'][1]\n",
    "                arr_pump = all_traces[nc][group]['beh'][2]\n",
    "                arr_neu  = all_traces[nc][group]['neu'][0]\n",
    "                rev_tag  = all_traces[nc][group]['rev']\n",
    "                target   = all_traces[nc][group]['target']\n",
    "                animal   = all_traces[nc][group]['animal']\n",
    "\n",
    "                flags, valid_indices = flag_nan_in_array(arr_neu, t_start=fwd_start-4, t_end=slope_t_end)\n",
    "                valid_vel  = arr_vel[valid_indices]\n",
    "                valid_hc   = arr_hc[valid_indices]\n",
    "                valid_pump = arr_pump[valid_indices]\n",
    "                valid_neu  = arr_neu[valid_indices]\n",
    "                labels     = target[valid_indices]\n",
    "                animal_id  = animal[valid_indices]\n",
    "\n",
    "                valid_rev = rev_tag[valid_indices]\n",
    "                shortRev_mask = valid_rev < 1\n",
    "                longRev_mask  = valid_rev == 2\n",
    "\n",
    "                if maskRev == 'shortRev':\n",
    "                    valid_vel  = valid_vel[shortRev_mask]\n",
    "                    valid_hc   = valid_hc[shortRev_mask]\n",
    "                    valid_pump = valid_pump[shortRev_mask]\n",
    "                    valid_neu  = valid_neu[shortRev_mask]\n",
    "                    labels     = labels[shortRev_mask]\n",
    "                    animal_id  = animal_id[shortRev_mask]\n",
    "                elif maskRev == 'longRev':\n",
    "                    valid_vel  = valid_vel[longRev_mask]\n",
    "                    valid_hc   = valid_hc[longRev_mask]\n",
    "                    valid_pump = valid_pump[longRev_mask]\n",
    "                    valid_neu  = valid_neu[longRev_mask]\n",
    "                    labels     = labels[longRev_mask]\n",
    "                    animal_id  = animal_id[longRev_mask]\n",
    "\n",
    "                if np.unique(animal_id).shape[0] > 6 and valid_neu.shape[0] > 50:\n",
    "                    baseline_neu = get_baseline(valid_neu, t_start=base_t_start, t_end=base_t_end)\n",
    "                    slope_neu    = get_slope_TheilSen(valid_neu, t_start=slope_t_start, t_end=slope_t_end)\n",
    "\n",
    "                    prev_vel  = get_baseline(valid_vel, t_start=fwd_start-4, t_end=fwd_start)\n",
    "                    curr_vel  = get_baseline(valid_vel, t_start=fwd_start,   t_end=fwd_start+4)\n",
    "\n",
    "                    prev_hc   = get_slope_TheilSen(valid_hc, t_start=fwd_start-4, t_end=fwd_start)\n",
    "                    curr_hc   = get_slope_TheilSen(valid_hc, t_start=fwd_start,   t_end=fwd_start+4)\n",
    "\n",
    "                    prev_pump = get_baseline(valid_pump, t_start=fwd_start-4, t_end=fwd_start)\n",
    "                    curr_pump = get_baseline(valid_pump, t_start=fwd_start,   t_end=fwd_start+4)\n",
    "\n",
    "                    feat_neu  = np.hstack((baseline_neu, slope_neu))\n",
    "                    feat_vel  = np.hstack((prev_vel, curr_vel))\n",
    "                    feat_beh  = np.hstack((prev_vel, curr_vel, prev_hc, curr_hc, prev_pump, curr_pump))\n",
    "                    feat_comb = np.hstack((baseline_neu, slope_neu, prev_vel, curr_vel, prev_hc, curr_hc, prev_pump, curr_pump))\n",
    "\n",
    "                    assert feat_comb.shape[0] == valid_neu.shape[0] == valid_vel.shape[0] == len(labels), \\\n",
    "                        'Matrix dimensions do not match up! Something went wrong with feature extraction.'\n",
    "\n",
    "                    if verbose:\n",
    "                        print(f\"Neural features shape:     {feat_neu.shape}\")\n",
    "                        print(f\"Velocity features shape:   {feat_vel.shape}\")\n",
    "                        print(f\"Behavioral features shape: {feat_beh.shape}\")\n",
    "                        print(f\"Combined features shape:   {feat_comb.shape}\")\n",
    "\n",
    "                    perf[group][nc] = {}\n",
    "                    perf[group][nc]['neu']  = train_eval(feat_neu,  labels, animal_id, verbose=verbose)\n",
    "                    perf[group][nc]['vel']  = train_eval(feat_vel,  labels, animal_id, verbose=verbose)\n",
    "                    perf[group][nc]['beh']  = train_eval(feat_beh,  labels, animal_id, verbose=verbose)\n",
    "                    perf[group][nc]['comb'] = train_eval(feat_comb, labels, animal_id, verbose=verbose)\n",
    "\n",
    "            except Exception as e:\n",
    "                print(f\"⚠️  Skipped: maskRev={maskRev}, group={group}, nc={nc} due to error:\")\n",
    "                print(traceback.format_exc())\n",
    "\n",
    "    perf_by_rev_masks[maskRev] = perf\n",
    "        \n",
    "save_dict_as_pickle(perf_by_rev_masks, '/data1/candy/predict_fwd_rev/outputs/perf_runStart_revMasks.pkl')"
   ]
  },
  {
   "cell_type": "code",
   "execution_count": null,
   "id": "aeffe1a6-a3b9-4a92-99d5-8c87f76762ea",
   "metadata": {
    "tags": []
   },
   "outputs": [],
   "source": [
    "# fold_results = perf['sparse_food']['AVB']['comb']\n",
    "\n",
    "# # f1_scores  = [fold['f1_score'] for fold in fold_results]\n",
    "# aurocs     = [fold['auroc']    for fold in fold_results]\n",
    "# auprcs     = [fold['auprc']    for fold in fold_results]\n",
    "\n",
    "# # print_metric_summary(\"F1 Score\", f1_scores)\n",
    "# print_metric_summary(\"AUROC\", aurocs)\n",
    "# print_metric_summary(\"AUPRC\", auprcs)"
   ]
  },
  {
   "cell_type": "markdown",
   "id": "93373cb4-4ade-4bd9-aafa-569e771761fa",
   "metadata": {
    "tags": []
   },
   "source": [
    "## Visualize performance across neuron classes"
   ]
  },
  {
   "cell_type": "code",
   "execution_count": null,
   "id": "3ca35231-eabf-4592-9e7c-50216e2734e6",
   "metadata": {
    "tags": []
   },
   "outputs": [],
   "source": [
    "group  = 'sparse_food'\n",
    "mdl0   = 'beh'\n",
    "mdl1   = 'comb'\n",
    "metric = 'auprc'\n",
    "\n",
    "maskRev = 'none'\n",
    "perf = perf_by_rev_masks[maskRev]\n",
    "\n",
    "perf_mdl0, perf_mdl1, perf_gain = calc_perf_gain(perf, mdl0=mdl0, mdl1=mdl1, metric=metric, group=group)"
   ]
  },
  {
   "cell_type": "code",
   "execution_count": null,
   "id": "b882a70a-9873-486f-9fe7-38ff96e809c7",
   "metadata": {
    "tags": []
   },
   "outputs": [],
   "source": [
    "create_strip_plot(perf_mdl0, title= f'{group}: AUPRC - Behavior only', baseline=0.5)"
   ]
  },
  {
   "cell_type": "code",
   "execution_count": null,
   "id": "41b5f53a-4e8c-4ff4-a375-791098e00816",
   "metadata": {
    "tags": []
   },
   "outputs": [],
   "source": [
    "create_strip_plot(perf_mdl1, title= f'{group}: AUPRC - Neuron & Behavior', baseline=0.5)"
   ]
  },
  {
   "cell_type": "code",
   "execution_count": null,
   "id": "75de7def-cca7-4b04-a083-27336740f7cd",
   "metadata": {
    "tags": []
   },
   "outputs": [],
   "source": [
    "create_strip_plot(perf_gain, title= f'{group}: Δ AUPRC', baseline=0)"
   ]
  },
  {
   "cell_type": "code",
   "execution_count": null,
   "id": "1c8752e3-850d-459a-9cb8-4c8dd9e92bb3",
   "metadata": {},
   "outputs": [],
   "source": []
  }
 ],
 "metadata": {
  "kernelspec": {
   "display_name": "Python (pred_fr)",
   "language": "python",
   "name": "pred_fr"
  },
  "language_info": {
   "codemirror_mode": {
    "name": "ipython",
    "version": 3
   },
   "file_extension": ".py",
   "mimetype": "text/x-python",
   "name": "python",
   "nbconvert_exporter": "python",
   "pygments_lexer": "ipython3",
   "version": "3.12.11"
  }
 },
 "nbformat": 4,
 "nbformat_minor": 5
}
